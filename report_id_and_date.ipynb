{
 "cells": [
  {
   "cell_type": "code",
   "execution_count": 1,
   "metadata": {},
   "outputs": [],
   "source": [
    "import pandas as pd\n",
    "import pymysql\n",
    "import json\n",
    "import os\n",
    "from dotenv import load_dotenv\n",
    "load_dotenv()\n",
    "from datetime import datetime,date"
   ]
  },
  {
   "cell_type": "code",
   "execution_count": 2,
   "metadata": {},
   "outputs": [],
   "source": [
    "def evaluate_expression(expression, variables):\n",
    "    allowed_globals = {'__builtins__': None}\n",
    "    allowed_globals.update(variables)\n",
    "    return int(eval(expression, allowed_globals))"
   ]
  },
  {
   "cell_type": "code",
   "execution_count": 3,
   "metadata": {},
   "outputs": [],
   "source": [
    "ruser = os.environ.get(\"RUSER\")\n",
    "rpass = os.environ.get(\"RPASS\")\n",
    "rhost = os.environ.get(\"RHOST\")\n",
    "rdb = os.environ.get(\"RDB\")"
   ]
  },
  {
   "cell_type": "code",
   "execution_count": 4,
   "metadata": {},
   "outputs": [],
   "source": [
    "cnx = pymysql.connect(\n",
    "    user = ruser,\n",
    "    password = rpass,\n",
    "    host = rhost,\n",
    "    db = rdb\n",
    ")"
   ]
  },
  {
   "cell_type": "code",
   "execution_count": 5,
   "metadata": {},
   "outputs": [],
   "source": [
    "raw_query = f'''select \n",
    "                    f.ID ,\n",
    "                    dc.feeder,\n",
    "                    dc.ip,\n",
    "                    dc.slave_id,\n",
    "                    dc.KWH,\n",
    "                    dc.mannual,\n",
    "                    dc.RunHr,\n",
    "                    dc.date\n",
    "                from \n",
    "                    Feeders f \n",
    "                left join \n",
    "                    daily_consumption dc \n",
    "                on \n",
    "                    f.IP = dc.IP \n",
    "                and \n",
    "                    f.slave_id = dc.slave_id '''"
   ]
  },
  {
   "cell_type": "code",
   "execution_count": 6,
   "metadata": {},
   "outputs": [
    {
     "name": "stderr",
     "output_type": "stream",
     "text": [
      "/tmp/ipykernel_5740/842923759.py:1: UserWarning: pandas only supports SQLAlchemy connectable (engine/connection) or database string URI or sqlite3 DBAPI2 connection. Other DBAPI2 objects are not tested. Please consider using SQLAlchemy.\n",
      "  raw_data = pd.read_sql(raw_query,con=cnx)\n"
     ]
    }
   ],
   "source": [
    "raw_data = pd.read_sql(raw_query,con=cnx)"
   ]
  },
  {
   "cell_type": "code",
   "execution_count": 8,
   "metadata": {},
   "outputs": [],
   "source": [
    "raw_df = raw_data.copy()"
   ]
  },
  {
   "cell_type": "code",
   "execution_count": 9,
   "metadata": {},
   "outputs": [],
   "source": [
    "raw_df['mannual'] = raw_df['mannual'].fillna(0)\n",
    "raw_df['mannual'] = raw_df['mannual'].replace({'5000':0})"
   ]
  },
  {
   "cell_type": "code",
   "execution_count": 10,
   "metadata": {},
   "outputs": [],
   "source": [
    "raw_df[['KWH', 'mannual']] = raw_df[['KWH', 'mannual']].astype(int)"
   ]
  },
  {
   "cell_type": "code",
   "execution_count": 11,
   "metadata": {},
   "outputs": [],
   "source": [
    "raw_df['total'] = raw_df['KWH']+raw_df['mannual']"
   ]
  },
  {
   "cell_type": "code",
   "execution_count": 151,
   "metadata": {},
   "outputs": [],
   "source": [
    "# raw_df"
   ]
  },
  {
   "cell_type": "code",
   "execution_count": null,
   "metadata": {},
   "outputs": [],
   "source": []
  },
  {
   "cell_type": "code",
   "execution_count": 19,
   "metadata": {},
   "outputs": [],
   "source": [
    "mapp_query = f'''select \n",
    "                    id,\n",
    "                    name,\n",
    "                    formula ,\n",
    "                    mapping_response \n",
    "                from \n",
    "                    mapping_data md '''"
   ]
  },
  {
   "cell_type": "code",
   "execution_count": 20,
   "metadata": {},
   "outputs": [
    {
     "name": "stderr",
     "output_type": "stream",
     "text": [
      "/tmp/ipykernel_5740/2091102775.py:1: UserWarning: pandas only supports SQLAlchemy connectable (engine/connection) or database string URI or sqlite3 DBAPI2 connection. Other DBAPI2 objects are not tested. Please consider using SQLAlchemy.\n",
      "  feeder_df = pd.read_sql(mapp_query,con=cnx)\n"
     ]
    }
   ],
   "source": [
    "feeder_df = pd.read_sql(mapp_query,con=cnx)"
   ]
  },
  {
   "cell_type": "code",
   "execution_count": 152,
   "metadata": {},
   "outputs": [],
   "source": [
    "# feeder_df"
   ]
  },
  {
   "cell_type": "code",
   "execution_count": 149,
   "metadata": {},
   "outputs": [],
   "source": [
    "def ValueGenerator(raw_data,mapping_df,req_date,report_id):\n",
    "    raw_df = raw_data[raw_data['date'].str.contains(f\"{req_date}\")].copy()\n",
    "    # print(raw_df.shape)\n",
    "    req_df = mapping_df[mapping_df['id']==int(f\"{report_id}\")].copy()\n",
    "    req_df = req_df.reset_index(drop= True)\n",
    "    mapp_response_list = mapping_df.loc[mapping_df['id']==int(f\"{report_id}\"), 'mapping_response'].values[0]\n",
    "    mapp_list = json.loads(mapp_response_list)\n",
    "    values_dict={}\n",
    "    feeder_dict={}\n",
    "    for each in mapp_list:\n",
    "        var_name = each['var']\n",
    "        req_id = each['id']\n",
    "        run_hr = each['run_hour']\n",
    "        # print(run_hr)\n",
    "        feeder_level = raw_df.loc[raw_df['ID']==req_id, 'feeder'].values[0]\n",
    "        feeder_dict[var_name]=feeder_level\n",
    "        if run_hr==True:\n",
    "            run_hr_value = (raw_df.loc[raw_df['ID']==req_id, 'RunHr'].values[0])\n",
    "            values_dict[var_name]=int(run_hr_value)\n",
    "        else:\n",
    "            kwh_value = raw_df.loc[raw_df['ID']==req_id, 'total'].values[0]\n",
    "            values_dict[var_name]=kwh_value \n",
    "    \n",
    "    req_df['feeder_levels'] = [feeder_dict]\n",
    "    req_df['feeder_values'] = [values_dict]\n",
    "    req_df['date'] = f\"{req_date}\"\n",
    "    req_df['value'] = req_df.apply(lambda row: evaluate_expression(row['formula'], row['feeder_values']), axis=1)\n",
    "    \n",
    "    return req_df"
   ]
  },
  {
   "cell_type": "code",
   "execution_count": 153,
   "metadata": {},
   "outputs": [],
   "source": [
    "value_df = ValueGenerator(raw_df,feeder_df,'2023-06-29',5)"
   ]
  },
  {
   "cell_type": "code",
   "execution_count": 155,
   "metadata": {},
   "outputs": [],
   "source": [
    "# value_df"
   ]
  },
  {
   "cell_type": "code",
   "execution_count": null,
   "metadata": {},
   "outputs": [],
   "source": []
  }
 ],
 "metadata": {
  "kernelspec": {
   "display_name": "venv",
   "language": "python",
   "name": "python3"
  },
  "language_info": {
   "codemirror_mode": {
    "name": "ipython",
    "version": 3
   },
   "file_extension": ".py",
   "mimetype": "text/x-python",
   "name": "python",
   "nbconvert_exporter": "python",
   "pygments_lexer": "ipython3",
   "version": "3.10.6"
  },
  "orig_nbformat": 4
 },
 "nbformat": 4,
 "nbformat_minor": 2
}
